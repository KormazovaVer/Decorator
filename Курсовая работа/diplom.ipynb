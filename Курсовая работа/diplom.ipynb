{
  "nbformat": 4,
  "nbformat_minor": 0,
  "metadata": {
    "colab": {
      "name": "Untitled82.ipynb",
      "provenance": []
    },
    "kernelspec": {
      "name": "python3",
      "display_name": "Python 3"
    },
    "language_info": {
      "name": "python"
    }
  },
  "cells": [
    {
      "cell_type": "code",
      "execution_count": 8,
      "metadata": {
        "colab": {
          "base_uri": "https://localhost:8080/"
        },
        "id": "iR_suaBE7tuw",
        "outputId": "49cf15a9-d7d9-487a-f222-fd3bc97ef7a5"
      },
      "outputs": [
        {
          "output_type": "stream",
          "name": "stdout",
          "text": [
            "[{'file name': '17.jpeg', 'size': 'r'},\n",
            " {'file name': '11.jpeg', 'size': 'y'},\n",
            " {'file name': '6.jpeg', 'size': 'y'},\n",
            " {'file name': '9 2020-07-06 time 11-53-49.jpeg', 'size': 'y'},\n",
            " {'file name': '9 2020-07-06 time 11-54-56.jpeg', 'size': 'w'}]\n",
            "\n",
            "Папка VK photo copies успешно создана в корневом каталоге Яндекс диска\n",
            "\n"
          ]
        },
        {
          "output_type": "stream",
          "name": "stderr",
          "text": [
            " 20%|██        | 1/5 [00:01<00:07,  1.95s/it]"
          ]
        },
        {
          "output_type": "stream",
          "name": "stdout",
          "text": [
            "Файл 17.jpeg успешно добавлен\n"
          ]
        },
        {
          "output_type": "stream",
          "name": "stderr",
          "text": [
            "\r 40%|████      | 2/5 [00:03<00:05,  1.85s/it]"
          ]
        },
        {
          "output_type": "stream",
          "name": "stdout",
          "text": [
            "Файл 11.jpeg успешно добавлен\n"
          ]
        },
        {
          "output_type": "stream",
          "name": "stderr",
          "text": [
            "\r 60%|██████    | 3/5 [00:05<00:03,  1.92s/it]"
          ]
        },
        {
          "output_type": "stream",
          "name": "stdout",
          "text": [
            "Файл 6.jpeg успешно добавлен\n"
          ]
        },
        {
          "output_type": "stream",
          "name": "stderr",
          "text": [
            "\r 80%|████████  | 4/5 [00:07<00:01,  1.89s/it]"
          ]
        },
        {
          "output_type": "stream",
          "name": "stdout",
          "text": [
            "Файл 9 2020-07-06 time 11-53-49.jpeg успешно добавлен\n"
          ]
        },
        {
          "output_type": "stream",
          "name": "stderr",
          "text": [
            "100%|██████████| 5/5 [00:09<00:00,  1.87s/it]"
          ]
        },
        {
          "output_type": "stream",
          "name": "stdout",
          "text": [
            "Файл 9 2020-07-06 time 11-54-56.jpeg успешно добавлен\n",
            "\n",
            "Запрос завершен, новых файлов добавлено: 5\n"
          ]
        },
        {
          "output_type": "stream",
          "name": "stderr",
          "text": [
            "\n"
          ]
        }
      ],
      "source": [
        "import os\n",
        "import requests\n",
        "import datetime\n",
        "import json\n",
        "from pprint import pprint\n",
        "import time\n",
        "from tqdm import tqdm\n",
        "\n",
        "\n",
        "def get_token_id(file_name):\n",
        "    with open(os.path.join(os.getcwd(), file_name), 'r') as token_file:\n",
        "        token = token_file.readline().strip()\n",
        "        id = token_file.readline().strip()\n",
        "    return [token, id]\n",
        "\n",
        "\n",
        "def find_max_dpi(dict_photos):\n",
        "    max_dpi = 0\n",
        "    for i in range(len(dict_photos)):\n",
        "        file_dpi = dict_photos[i].get('width') * dict_photos[i].get('height')\n",
        "        if file_dpi > max_dpi:\n",
        "            max_dpi = file_dpi\n",
        "            need_elem = i\n",
        "    return dict_photos[need_elem].get('url'), dict_photos[need_elem].get('type')\n",
        "\n",
        "\n",
        "def time_convert(time_unix):\n",
        "    time_bc = datetime.datetime.fromtimestamp(time_unix)\n",
        "    str_time = time_bc.strftime('%Y-%m-%d time %H-%M-%S')\n",
        "    return str_time\n",
        "\n",
        "\n",
        "class VK_get_request:\n",
        "\n",
        "    def __init__(self, token_list, version='5.131'):\n",
        "        self.token = token_list[0]\n",
        "        self.id = token_list[1]\n",
        "        self.version = version\n",
        "        self.start_params = {'access_token': self.token, 'v': self.version}\n",
        "        self.json, self.export_dict = self._sort_photo_information()\n",
        "\n",
        "    def _get_photo_information(self):\n",
        "        url = 'https://api.vk.com/method/photos.get'\n",
        "        params = {'owner_id': self.id,\n",
        "                  'album_id': 'profile',\n",
        "                  'photo_sizes': 1,\n",
        "                  'extended': 1}\n",
        "        photo_info = requests.get(url, params={**self.start_params, **params}).json()['response']\n",
        "        return photo_info['count'], photo_info['items']\n",
        "\n",
        "    def _get_logs_photo(self):\n",
        "        photo_count, photo_items = self._get_photo_information()\n",
        "        result = {}\n",
        "        for j in range(photo_count):\n",
        "            likes_count = photo_items[j]['likes']['count']\n",
        "            url_download, picture_size = find_max_dpi(photo_items[j]['sizes'])\n",
        "            time_warp = time_convert(photo_items[j]['date'])\n",
        "\n",
        "            new_value = result.get(likes_count, [])\n",
        "            new_value.append({'add_name': time_warp,\n",
        "                              'url_picture': url_download,\n",
        "                              'size': picture_size})\n",
        "            result[likes_count] = new_value\n",
        "        return result\n",
        "\n",
        "    def _sort_photo_information(self):\n",
        "        json_list = []\n",
        "        sorted_dict = {}\n",
        "        picture_dict = self._get_logs_photo()\n",
        "        for elem in picture_dict.keys():\n",
        "            for value in picture_dict[elem]:\n",
        "                if len(picture_dict[elem]) == 1:\n",
        "                    file_name = f'{elem}.jpeg'\n",
        "                else:\n",
        "                    file_name = f'{elem} {value[\"add_name\"]}.jpeg'\n",
        "                json_list.append({'file name': file_name, 'size': value[\"size\"]})\n",
        "                sorted_dict[file_name] = picture_dict[elem][0]['url_picture']\n",
        "        return json_list, sorted_dict\n",
        "\n",
        "\n",
        "class Yandex_upload:\n",
        "    def __init__(self, folder_name, token_list):\n",
        "        self.token = token_list[0]\n",
        "        self.url = \"https://cloud-api.yandex.net/v1/disk/resources/upload\"\n",
        "        self.headers = {'Authorization': self.token}\n",
        "        self.folder = self._create_folder(folder_name)\n",
        "\n",
        "    def _create_folder(self, folder_name):\n",
        "        url = \"https://cloud-api.yandex.net/v1/disk/resources\"\n",
        "        params = {'path': folder_name}\n",
        "        if requests.get(url, headers=self.headers, params=params).status_code != 200:\n",
        "            requests.put(url, headers=self.headers, params=params)\n",
        "            print(f'\\nПапка {folder_name} успешно создана в корневом каталоге Яндекс диска\\n')\n",
        "        else:\n",
        "            print(f'\\nПапка {folder_name} уже существует. Файлы с одинаковыми именами не будут скопированы\\n')\n",
        "        return folder_name\n",
        "\n",
        "    def _in_folder(self, folder_name):\n",
        "        url = \"https://cloud-api.yandex.net/v1/disk/resources\"\n",
        "        params = {'path': folder_name}\n",
        "        resource = requests.get(url, headers=self.headers, params=params).json()['_embedded']['items']\n",
        "        in_folder_list = [] \n",
        "        for elem in resource:\n",
        "            in_folder_list.append(elem['name'])\n",
        "        return in_folder_list\n",
        "\n",
        "    def create_copy(self, dict_files):\n",
        "        files_in_folder = self._in_folder(self.folder)\n",
        "        added_files_num = 0\n",
        "        for key in tqdm(dict_files.keys()):\n",
        "            time.sleep(1)\n",
        "            if key not in files_in_folder:\n",
        "                params = {'path': f'{self.folder}/{key}',\n",
        "                          'url': dict_files[key],\n",
        "                          'overwrite': 'false'}\n",
        "                requests.post(self.url, headers=self.headers, params=params)\n",
        "                print(f'Файл {key} успешно добавлен')\n",
        "                added_files_num += 1\n",
        "            else:\n",
        "                print(f'Копирование отменено:Файл {key} уже существует')\n",
        "        print(f'\\nЗапрос завершен, новых файлов добавлено: {added_files_num}')\n",
        "\n",
        "if __name__ == '__main__':\n",
        "\n",
        "    tokenVK = 'tokenVK.txt'  # токен и id доступа хранятся в файле\n",
        "    tokenYandex = 'tokenYandex.txt'  # хранится токен яндекс диска\n",
        "\n",
        "    my_VK = VK_get_request(get_token_id(tokenVK))\n",
        "    pprint(my_VK.json)\n",
        "\n",
        "    my_yandex = Yandex_upload('VK photo copies', get_token_id(tokenYandex))\n",
        "    my_yandex.create_copy(my_VK.export_dict)"
      ]
    }
  ]
}