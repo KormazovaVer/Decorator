{
  "nbformat": 4,
  "nbformat_minor": 0,
  "metadata": {
    "colab": {
      "name": "Untitled85.ipynb",
      "provenance": []
    },
    "kernelspec": {
      "name": "python3",
      "display_name": "Python 3"
    },
    "language_info": {
      "name": "python"
    }
  },
  "cells": [
    {
      "cell_type": "code",
      "execution_count": 2,
      "metadata": {
        "id": "ED8O7j7Z-b3a"
      },
      "outputs": [],
      "source": [
        "from datetime import datetime  \n",
        "import hashlib\n",
        "\n",
        "\n",
        "def get_log(func):\n",
        "    def foo(*args, **kwargs):\n",
        "        date_time = datetime.now()\n",
        "        func_name = func.__name__\n",
        "        result = func(*args, **kwargs)\n",
        "        with open('decorator_3.txt', 'w', encoding='utf-8') as file:\n",
        "            file.write(f'Дата/время: {date_time}\\n'\n",
        "                       f'Имя функции: {func_name}\\n'\n",
        "                       f'Аргументы: {args, kwargs}\\n'\n",
        "                       f'Результат: {result}\\n')\n",
        "        return result\n",
        "    return foo\n",
        "\n",
        "\n",
        "# Функция возвращения хеша\n",
        "@get_log\n",
        "def get_hash(path: str):\n",
        "    with open(path) as file:\n",
        "        for line in file:\n",
        "            yield hashlib.md5(line.encode()).hexdigest()\n",
        "\n",
        "\n",
        "if __name__ == '__main__':\n",
        "    get_hash('water.txt')"
      ]
    }
  ]
}