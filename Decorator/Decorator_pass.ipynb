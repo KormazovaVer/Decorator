{
  "nbformat": 4,
  "nbformat_minor": 0,
  "metadata": {
    "colab": {
      "name": "Decorator_pass.ipynb",
      "provenance": []
    },
    "kernelspec": {
      "name": "python3",
      "display_name": "Python 3"
    },
    "language_info": {
      "name": "python"
    }
  },
  "cells": [
    {
      "cell_type": "code",
      "execution_count": 1,
      "metadata": {
        "id": "WMfAD88C9VCP"
      },
      "outputs": [],
      "source": [
        "from datetime import datetime \n",
        "import requests\n",
        "\n",
        "\n",
        "FILE_PATH = 'decorator_2.txt'\n",
        "\n",
        "\n",
        "def get_log(path):\n",
        "    def decor(func):\n",
        "        def foo(*args, **kwargs):\n",
        "            date_time = datetime.now()\n",
        "            func_name = func.__name__\n",
        "            result = func(*args, **kwargs)\n",
        "            with open(path, 'w', encoding='utf-8') as file:\n",
        "                file.write(f'Дата/время: {date_time}\\n'\n",
        "                           f'Имя функции: {func_name}\\n'\n",
        "                           f'Аргументы: {args, kwargs}\\n'\n",
        "                           f'Результат: {result}\\n')\n",
        "            return result\n",
        "        return foo\n",
        "    return decor\n",
        "\n",
        "\n",
        "@get_log(FILE_PATH)\n",
        "def get_status(*args, **kwargs):\n",
        "    url = ','.join(args)\n",
        "    response = requests.get(url=url)\n",
        "    return response.status_code\n",
        "\n",
        "\n",
        "if __name__ == '__main__':\n",
        "    get_status('https://google.com')"
      ]
    }
  ]
}